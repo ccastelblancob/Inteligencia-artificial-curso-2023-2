{
  "cells": [
    {
      "cell_type": "markdown",
      "metadata": {
        "id": "view-in-github",
        "colab_type": "text"
      },
      "source": [
        "<a href=\"https://colab.research.google.com/github/ccastelblancob/Inteligencia-artificial-curso-2023-2/blob/main/tarea_1_2.ipynb\" target=\"_parent\"><img src=\"https://colab.research.google.com/assets/colab-badge.svg\" alt=\"Open In Colab\"/></a>"
      ]
    },
    {
      "cell_type": "markdown",
      "source": [
        "# ***TAREA 1 IA***\n",
        "\n",
        "1. Consiga el conjunto de datos iris.csv. (ver enlace adjunto)\n",
        "\n",
        "2.Escriba una clase iterable que tenga la siguiente funcionalidad:\n",
        "\n",
        "2.1 Al instanciar un objeto, lee el archivo de datos y lo coloca en un dataframe interno en la clase. 2.2 Cada vez que se le pidan datos, debe regresar los dos siguientes datos. 2.3 Imprima \"error\" si los datos se han agotado.\n",
        "\n",
        "Pruebe su clase\n",
        "\n"
      ],
      "metadata": {
        "id": "0X1NCH6f5k3c"
      },
      "id": "0X1NCH6f5k3c"
    },
    {
      "cell_type": "code",
      "source": [
        "from google.colab import drive\n",
        "drive.mount('/content/drive')"
      ],
      "metadata": {
        "colab": {
          "base_uri": "https://localhost:8080/"
        },
        "id": "x46Pp4Qw6PHZ",
        "outputId": "2acf5d37-2174-40c8-de27-1cbfa893473f"
      },
      "id": "x46Pp4Qw6PHZ",
      "execution_count": 7,
      "outputs": [
        {
          "output_type": "stream",
          "name": "stdout",
          "text": [
            "Drive already mounted at /content/drive; to attempt to forcibly remount, call drive.mount(\"/content/drive\", force_remount=True).\n"
          ]
        }
      ]
    },
    {
      "cell_type": "code",
      "execution_count": 8,
      "id": "023f459a",
      "metadata": {
        "id": "023f459a"
      },
      "outputs": [],
      "source": [
        "import pandas as pd\n"
      ]
    },
    {
      "cell_type": "code",
      "execution_count": 9,
      "id": "b8a6c8a2",
      "metadata": {
        "id": "b8a6c8a2"
      },
      "outputs": [],
      "source": [
        "class Iris_3:\n",
        "        def __init__(self, datos):\n",
        "            self.datos = pd.read_csv(datos)\n",
        "            self.data = pd.DataFrame(self.datos)\n",
        "            self.index = 0\n",
        "        def __iter__(self):\n",
        "            return self\n",
        "        def __next__(self):\n",
        "            if self.index >= len(self.data)-1:\n",
        "                print('Error')\n",
        "                raise StopIteration()\n",
        "            if self.index < len(self.data):\n",
        "                x= self.data.iloc[self.index], self.data.iloc[self.index+1]\n",
        "                self.index += 2\n",
        "                return x"
      ]
    },
    {
      "cell_type": "code",
      "execution_count": 11,
      "id": "725474c6",
      "metadata": {
        "colab": {
          "base_uri": "https://localhost:8080/"
        },
        "id": "725474c6",
        "outputId": "2334710b-761b-4269-ad4b-13e7f8df1aa1"
      },
      "outputs": [
        {
          "output_type": "stream",
          "name": "stdout",
          "text": [
            "1 2\n",
            "3 4\n",
            "5 6\n",
            "7 8\n",
            "9 10\n",
            "11 12\n",
            "13 14\n",
            "15 16\n",
            "17 18\n",
            "19 20\n",
            "21 22\n",
            "23 24\n",
            "25 26\n",
            "27 28\n",
            "29 30\n",
            "31 32\n",
            "33 34\n",
            "35 36\n",
            "37 38\n",
            "39 40\n",
            "41 42\n",
            "43 44\n",
            "45 46\n",
            "47 48\n",
            "49 50\n",
            "51 52\n",
            "53 54\n",
            "55 56\n",
            "57 58\n",
            "59 60\n",
            "61 62\n",
            "63 64\n",
            "65 66\n",
            "67 68\n",
            "69 70\n",
            "71 72\n",
            "73 74\n",
            "75 76\n",
            "77 78\n",
            "79 80\n",
            "81 82\n",
            "83 84\n",
            "85 86\n",
            "87 88\n",
            "89 90\n",
            "91 92\n",
            "93 94\n",
            "95 96\n",
            "97 98\n",
            "99 100\n",
            "101 102\n",
            "103 104\n",
            "105 106\n",
            "107 108\n",
            "109 110\n",
            "111 112\n",
            "113 114\n",
            "115 116\n",
            "117 118\n",
            "119 120\n",
            "121 122\n",
            "123 124\n",
            "125 126\n",
            "127 128\n",
            "129 130\n",
            "131 132\n",
            "133 134\n",
            "135 136\n",
            "137 138\n",
            "139 140\n",
            "141 142\n",
            "143 144\n",
            "145 146\n",
            "147 148\n",
            "Error\n"
          ]
        }
      ],
      "source": [
        "#Data de iris guardado en drive /content/drive/MyDrive/IA-2023-2/Iris.csv\n",
        "prueba_a = Iris_3('/content/drive/MyDrive/IA-2023-2/Iris.csv')\n",
        "for i,j in prueba_a:\n",
        "    print(i,j)"
      ]
    },
    {
      "cell_type": "markdown",
      "source": [
        "**¡Clase probada!**"
      ],
      "metadata": {
        "id": "RekrA7he8Ws_"
      },
      "id": "RekrA7he8Ws_"
    }
  ],
  "metadata": {
    "kernelspec": {
      "display_name": "Python 3 (ipykernel)",
      "language": "python",
      "name": "python3"
    },
    "language_info": {
      "codemirror_mode": {
        "name": "ipython",
        "version": 3
      },
      "file_extension": ".py",
      "mimetype": "text/x-python",
      "name": "python",
      "nbconvert_exporter": "python",
      "pygments_lexer": "ipython3",
      "version": "3.11.4"
    },
    "nbTranslate": {
      "displayLangs": [
        "*"
      ],
      "hotkey": "alt-t",
      "langInMainMenu": true,
      "sourceLang": "en",
      "targetLang": "fr",
      "useGoogleTranslate": true
    },
    "toc": {
      "base_numbering": 1,
      "nav_menu": {},
      "number_sections": true,
      "sideBar": true,
      "skip_h1_title": false,
      "title_cell": "Table of Contents",
      "title_sidebar": "Contents",
      "toc_cell": false,
      "toc_position": {},
      "toc_section_display": true,
      "toc_window_display": false
    },
    "varInspector": {
      "cols": {
        "lenName": 16,
        "lenType": 16,
        "lenVar": 40
      },
      "kernels_config": {
        "python": {
          "delete_cmd_postfix": "",
          "delete_cmd_prefix": "del ",
          "library": "var_list.py",
          "varRefreshCmd": "print(var_dic_list())"
        },
        "r": {
          "delete_cmd_postfix": ") ",
          "delete_cmd_prefix": "rm(",
          "library": "var_list.r",
          "varRefreshCmd": "cat(var_dic_list()) "
        }
      },
      "types_to_exclude": [
        "module",
        "function",
        "builtin_function_or_method",
        "instance",
        "_Feature"
      ],
      "window_display": false
    },
    "colab": {
      "provenance": [],
      "include_colab_link": true
    }
  },
  "nbformat": 4,
  "nbformat_minor": 5
}