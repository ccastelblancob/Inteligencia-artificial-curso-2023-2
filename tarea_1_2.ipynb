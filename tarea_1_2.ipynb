{
  "nbformat": 4,
  "nbformat_minor": 0,
  "metadata": {
    "colab": {
      "provenance": [],
      "authorship_tag": "ABX9TyNt6rsNMboC8wHcmVncUEAL",
      "include_colab_link": true
    },
    "kernelspec": {
      "name": "python3",
      "display_name": "Python 3"
    },
    "language_info": {
      "name": "python"
    }
  },
  "cells": [
    {
      "cell_type": "markdown",
      "metadata": {
        "id": "view-in-github",
        "colab_type": "text"
      },
      "source": [
        "<a href=\"https://colab.research.google.com/github/ccastelblancob/Inteligencia-artificial-curso-2023-2/blob/main/tarea_1_2.ipynb\" target=\"_parent\"><img src=\"https://colab.research.google.com/assets/colab-badge.svg\" alt=\"Open In Colab\"/></a>"
      ]
    },
    {
      "cell_type": "markdown",
      "source": [
        "# TAREA 1 IA\n",
        "3. Escriba una clase con las siguientes funcionalidades:\n",
        "\n",
        "3.1 Al instanciar un objeto, lee un conjunto de datos numéricos. Por ejemplo puede usar el mismo conjunto de datos iris.csv. Instancie los datos en un dataframe de Pandas. 3.2 Implemente un método que calcule las estadísticas descriptivas básicas de cada una de las variables (sepal.length, sepal.width, petal.length, etc) 3.3 Implemente un método que entregue los nombre de las variables disponibles. 3.3 Implemente un método que reciba el nombre de una variable disponible dentro del objeto (en el dataframe) y regrese: sus estadísticas básicas: media, mediana, desviación, percentiles q25, q50, q75 y dibuje un histograma de la distribución de la variable.\n",
        "\n",
        "Pruebe su clase."
      ],
      "metadata": {
        "id": "FtqzrJRNBqdW"
      }
    },
    {
      "cell_type": "code",
      "execution_count": 1,
      "metadata": {
        "colab": {
          "base_uri": "https://localhost:8080/"
        },
        "id": "WgH6-tvD9e4y",
        "outputId": "9bc21897-fd75-42f5-986b-8dbd9208748c"
      },
      "outputs": [
        {
          "output_type": "stream",
          "name": "stdout",
          "text": [
            "Mounted at /content/drive\n"
          ]
        }
      ],
      "source": [
        "from google.colab import drive\n",
        "drive.mount('/content/drive')"
      ]
    },
    {
      "cell_type": "code",
      "source": [
        "import pandas as pd\n",
        "import matplotlib.pyplot as plt\n",
        "class Analisis:\n",
        "    def __init__(self, datos):\n",
        "        self.datos = pd.read_csv(datos)\n",
        "        self.data = pd.DataFrame(self.datos)\n",
        "    def estadisticas(self):\n",
        "        return self.data.describe(exclude=[object])\n",
        "    def nombre_variables(self):\n",
        "        return list(self.data.columns)\n",
        "\n",
        "    def estadistica_varible(self,name):\n",
        "        print(self.data[name].describe())\n",
        "        plt.hist(self.data[name])\n",
        "        plt.ylabel(\"Frecuencia\")\n",
        "        plt.title(f\"Histograma de {name}\")\n",
        "        plt.show()"
      ],
      "metadata": {
        "id": "Sm6ZiATY9pP6"
      },
      "execution_count": 18,
      "outputs": []
    },
    {
      "cell_type": "code",
      "source": [
        "analisis_estadistica = Analisis('/content/drive/MyDrive/IA-2023-2/Iris.csv')\n",
        "print('Estadísticas descriptivas básicas\\n')\n",
        "print(analisis_estadistica.estadisticas(),\"\\n\")\n",
        "print('Variables disponibles\\n')\n",
        "print(analisis_estadistica.nombre_variables(),'\\n')\n",
        "print('Estadísticas de la variable PetalLengthCm\\n')\n",
        "print(analisis_estadistica.estadistica_varible('PetalLengthCm'))"
      ],
      "metadata": {
        "colab": {
          "base_uri": "https://localhost:8080/",
          "height": 953
        },
        "id": "_OAMcd9u917w",
        "outputId": "12555046-9c03-4d8f-8cf4-af816e80b9a5"
      },
      "execution_count": 19,
      "outputs": [
        {
          "output_type": "stream",
          "name": "stdout",
          "text": [
            "Estadísticas descriptivas básicas\n",
            "\n",
            "               Id  SepalLengthCm  SepalWidthCm  PetalLengthCm  PetalWidthCm\n",
            "count  149.000000     149.000000    149.000000     149.000000    149.000000\n",
            "mean    75.000000       5.842953      3.054362       3.749664      1.194631\n",
            "std     43.156691       0.830846      0.435034       1.766911      0.764127\n",
            "min      1.000000       4.300000      2.000000       1.000000      0.100000\n",
            "25%     38.000000       5.100000      2.800000       1.600000      0.300000\n",
            "50%     75.000000       5.800000      3.000000       4.300000      1.300000\n",
            "75%    112.000000       6.400000      3.300000       5.100000      1.800000\n",
            "max    149.000000       7.900000      4.400000       6.900000      2.500000 \n",
            "\n",
            "Variables disponibles\n",
            "\n",
            "['Id', 'SepalLengthCm', 'SepalWidthCm', 'PetalLengthCm', 'PetalWidthCm', 'Species'] \n",
            "\n",
            "Estadísticas de la variable PetalLengthCm\n",
            "\n",
            "count    149.000000\n",
            "mean       3.749664\n",
            "std        1.766911\n",
            "min        1.000000\n",
            "25%        1.600000\n",
            "50%        4.300000\n",
            "75%        5.100000\n",
            "max        6.900000\n",
            "Name: PetalLengthCm, dtype: float64\n"
          ]
        },
        {
          "output_type": "display_data",
          "data": {
            "text/plain": [
              "<Figure size 640x480 with 1 Axes>"
            ],
            "image/png": "[encoded data removed]"
          },
          "metadata": {}
        },
        {
          "output_type": "stream",
          "name": "stdout",
          "text": [
            "None\n"
          ]
        }
      ]
    },
    {
      "cell_type": "markdown",
      "source": [
        "**Clase probada**"
      ],
      "metadata": {
        "id": "JJifBxKJBi7W"
      }
    }
  ]
}